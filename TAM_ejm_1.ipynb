{
  "nbformat": 4,
  "nbformat_minor": 0,
  "metadata": {
    "colab": {
      "provenance": [],
      "authorship_tag": "ABX9TyOaD95UUAcT7koM64gRs2Yu",
      "include_colab_link": true
    },
    "kernelspec": {
      "name": "python3",
      "display_name": "Python 3"
    },
    "language_info": {
      "name": "python"
    }
  },
  "cells": [
    {
      "cell_type": "markdown",
      "metadata": {
        "id": "view-in-github",
        "colab_type": "text"
      },
      "source": [
        "<a href=\"https://colab.research.google.com/github/Alz-517/Teor-a_Aprendizaje_De_M-quina/blob/main/TAM_ejm_1.ipynb\" target=\"_parent\"><img src=\"https://colab.research.google.com/assets/colab-badge.svg\" alt=\"Open In Colab\"/></a>"
      ]
    },
    {
      "source": [
        "from fractions import Fraction\n",
        "\n",
        "# Definir las probabilidades a priori\n",
        "prior_r = 0.4\n",
        "prior_b = 0.6\n",
        "\n",
        "# Definir las cantidades de objetos en cada caja\n",
        "caja_r = {'a': 2, 'o': 6}\n",
        "caja_b = {'a': 3, 'o': 1}\n",
        "\n",
        "# Calcular el total de objetos en cada caja\n",
        "total_r = sum(caja_r.values())\n",
        "total_b = sum(caja_b.values())\n",
        "\n",
        "# Calcular la probabilidad de cada objeto dada la caja\n",
        "prob_a_dado_r = caja_r['a'] / total_r\n",
        "prob_a_dado_b = caja_b['a'] / total_b\n",
        "prob_o_dado_r = caja_r['o'] / total_r\n",
        "prob_o_dado_b = caja_b['o'] / total_b\n",
        "\n",
        "# Calcular la probabilidad de cada objeto usando el teorema de Bayes\n",
        "# P(a) = P(a|r)P(r) + P(a|b)P(b)\n",
        "prob_a = (prob_a_dado_r * prior_r) + (prob_a_dado_b * prior_b)\n",
        "# P(o) = P(o|r)P(r) + P(o|b)P(b)\n",
        "prob_o = (prob_o_dado_r * prior_r) + (prob_o_dado_b * prior_b)\n",
        "\n",
        "\n",
        "# Calcular el posterior usando el teorema de Bayes\n",
        "prob_r_dado_a = (prob_a_dado_r * prior_r) / prob_a\n",
        "prob_b_dado_a = (prob_a_dado_b * prior_b) / prob_a\n",
        "prob_r_dado_o = (prob_o_dado_r * prior_r) / prob_o\n",
        "prob_b_dado_o = (prob_o_dado_b * prior_b) / prob_o\n",
        "\n",
        "# Imprimir las probabilidades\n",
        "print(\"Probabilidad de a:\", prob_a, \"Fracción:\", Fraction(prob_a).limit_denominator())\n",
        "print(\"Probabilidad de o:\", prob_o, \"Fracción:\", Fraction(prob_o).limit_denominator())\n",
        "print(\"Probabilidad de a dado r:\", prob_a_dado_r, \"Fracción:\", Fraction(prob_a_dado_r).limit_denominator())\n",
        "print(\"Probabilidad de a dado b:\", prob_a_dado_b, \"Fracción:\", Fraction(prob_a_dado_b).limit_denominator())\n",
        "print(\"Probabilidad de o dado r:\", prob_o_dado_r, \"Fracción:\", Fraction(prob_o_dado_r).limit_denominator())\n",
        "print(\"Probabilidad de o dado b:\", prob_o_dado_b, \"Fracción:\", Fraction(prob_o_dado_b).limit_denominator())\n",
        "print(\"Probabilidad de r dado a (posterior):\", prob_r_dado_a, \"Fracción:\", Fraction(prob_r_dado_a).limit_denominator())\n",
        "print(\"Probabilidad de b dado a (posterior):\", prob_b_dado_a, \"Fracción:\", Fraction(prob_b_dado_a).limit_denominator())\n",
        "print(\"Probabilidad de r dado o (posterior):\", prob_r_dado_o, \"Fracción:\", Fraction(prob_r_dado_o).limit_denominator())\n",
        "print(\"Probabilidad de b dado o (posterior):\", prob_b_dado_o, \"Fracción:\", Fraction(prob_b_dado_o).limit_denominator())"
      ],
      "cell_type": "code",
      "metadata": {
        "colab": {
          "base_uri": "https://localhost:8080/"
        },
        "id": "3Y-uCWLsJR4A",
        "outputId": "588adc94-666a-47b3-93c6-ec9464ed5a79"
      },
      "execution_count": null,
      "outputs": [
        {
          "output_type": "stream",
          "name": "stdout",
          "text": [
            "Probabilidad de a: 0.5499999999999999 Fracción: 11/20\n",
            "Probabilidad de o: 0.45000000000000007 Fracción: 9/20\n",
            "Probabilidad de a dado r: 0.25 Fracción: 1/4\n",
            "Probabilidad de a dado b: 0.75 Fracción: 3/4\n",
            "Probabilidad de o dado r: 0.75 Fracción: 3/4\n",
            "Probabilidad de o dado b: 0.25 Fracción: 1/4\n",
            "Probabilidad de r dado a (posterior): 0.18181818181818185 Fracción: 2/11\n",
            "Probabilidad de b dado a (posterior): 0.8181818181818182 Fracción: 9/11\n",
            "Probabilidad de r dado o (posterior): 0.6666666666666666 Fracción: 2/3\n",
            "Probabilidad de b dado o (posterior): 0.33333333333333326 Fracción: 1/3\n"
          ]
        }
      ]
    },
    {
      "source": [
        "from fractions import Fraction\n",
        "\n",
        "# Solicitar la cantidad de cajas\n",
        "num_cajas = int(input(\"Ingrese la cantidad de cajas: \"))\n",
        "\n",
        "# Inicializar diccionarios para almacenar la información de las cajas\n",
        "cajas = {}\n",
        "priors = {}\n",
        "\n",
        "# Solicitar información para cada caja\n",
        "for i in range(num_cajas):\n",
        "    nombre_caja = input(f\"Ingrese el nombre de la caja {i + 1}: \")\n",
        "    prior = float(input(f\"Ingrese la probabilidad a priori de la caja {nombre_caja}: \"))\n",
        "\n",
        "    priors[nombre_caja] = prior\n",
        "    cajas[nombre_caja] = {}\n",
        "\n",
        "    num_elementos = int(input(f\"Ingrese la cantidad de elementos en la caja {nombre_caja}: \"))\n",
        "\n",
        "    for j in range(num_elementos):\n",
        "        nombre_elemento = input(f\"Ingrese el nombre del elemento {j + 1}: \")\n",
        "        cantidad_elemento = int(input(f\"Ingrese la cantidad del elemento {nombre_elemento} en la caja {nombre_caja}: \"))\n",
        "        cajas[nombre_caja][nombre_elemento] = cantidad_elemento\n",
        "\n",
        "# Calcular totales y probabilidades\n",
        "probs = {}\n",
        "probs_dado_caja = {}\n",
        "posteriors = {}\n",
        "\n",
        "for elemento in set(sum([list(caja.keys()) for caja in cajas.values()], [])):  # Obtener todos los elementos únicos\n",
        "    probs[elemento] = 0\n",
        "    probs_dado_caja[elemento] = {}\n",
        "    posteriors[elemento] = {}\n",
        "\n",
        "    for nombre_caja, caja in cajas.items():\n",
        "        total_caja = sum(caja.values())\n",
        "\n",
        "        prob_elemento_dado_caja = caja.get(elemento, 0) / total_caja  # Probabilidad del elemento dada la caja\n",
        "        probs_dado_caja[elemento][nombre_caja] = prob_elemento_dado_caja\n",
        "\n",
        "        probs[elemento] += prob_elemento_dado_caja * priors[nombre_caja]  # Probabilidad total del elemento\n",
        "\n",
        "    for nombre_caja, caja in cajas.items():\n",
        "        posteriors[elemento][nombre_caja] = (probs_dado_caja[elemento][nombre_caja] * priors[nombre_caja]) / probs[elemento]\n",
        "\n",
        "# Imprimir resultados\n",
        "for elemento in probs:\n",
        "    print(f\"\\nProbabilidad de {elemento}: {probs[elemento]}, Fracción: {Fraction(probs[elemento]).limit_denominator()}\")\n",
        "\n",
        "    for nombre_caja in cajas:\n",
        "        print(f\"Probabilidad de {elemento} dado {nombre_caja}: {probs_dado_caja[elemento][nombre_caja]}, Fracción: {Fraction(probs_dado_caja[elemento][nombre_caja]).limit_denominator()}\")\n",
        "        print(f\"Probabilidad de {nombre_caja} dado {elemento} (posterior): {posteriors[elemento][nombre_caja]}, Fracción: {Fraction(posteriors[elemento][nombre_caja]).limit_denominator()}\")"
      ],
      "cell_type": "code",
      "metadata": {
        "colab": {
          "base_uri": "https://localhost:8080/"
        },
        "id": "PwZeLo4aKPpc",
        "outputId": "c7ff6567-4a62-4bdb-ab4e-134ca38f882c"
      },
      "execution_count": null,
      "outputs": [
        {
          "output_type": "stream",
          "name": "stdout",
          "text": [
            "Ingrese la cantidad de cajas: 2\n",
            "Ingrese el nombre de la caja 1: r\n",
            "Ingrese la probabilidad a priori de la caja r: 0.4\n",
            "Ingrese la cantidad de elementos en la caja r: 2\n",
            "Ingrese el nombre del elemento 1: a\n",
            "Ingrese la cantidad del elemento a en la caja r: 2\n",
            "Ingrese el nombre del elemento 2: o\n",
            "Ingrese la cantidad del elemento o en la caja r: 6\n",
            "Ingrese el nombre de la caja 2: b\n",
            "Ingrese la probabilidad a priori de la caja b: 0.6\n",
            "Ingrese la cantidad de elementos en la caja b: 2\n",
            "Ingrese el nombre del elemento 1: a\n",
            "Ingrese la cantidad del elemento a en la caja b: 3\n",
            "Ingrese el nombre del elemento 2: o\n",
            "Ingrese la cantidad del elemento o en la caja b: 1\n",
            "\n",
            "Probabilidad de o: 0.45000000000000007, Fracción: 9/20\n",
            "Probabilidad de o dado r: 0.75, Fracción: 3/4\n",
            "Probabilidad de r dado o (posterior): 0.6666666666666666, Fracción: 2/3\n",
            "Probabilidad de o dado b: 0.25, Fracción: 1/4\n",
            "Probabilidad de b dado o (posterior): 0.33333333333333326, Fracción: 1/3\n",
            "\n",
            "Probabilidad de a: 0.5499999999999999, Fracción: 11/20\n",
            "Probabilidad de a dado r: 0.25, Fracción: 1/4\n",
            "Probabilidad de r dado a (posterior): 0.18181818181818185, Fracción: 2/11\n",
            "Probabilidad de a dado b: 0.75, Fracción: 3/4\n",
            "Probabilidad de b dado a (posterior): 0.8181818181818182, Fracción: 9/11\n"
          ]
        }
      ]
    }
  ]
}